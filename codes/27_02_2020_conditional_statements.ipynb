{
 "cells": [
  {
   "cell_type": "code",
   "execution_count": 2,
   "metadata": {},
   "outputs": [
    {
     "name": "stdout",
     "output_type": "stream",
     "text": [
      "if statment got executed\n"
     ]
    }
   ],
   "source": [
    "age=40\n",
    "if age<25:\n",
    "    print(\"group1\")\n",
    "print(\"if statment got executed\")"
   ]
  },
  {
   "cell_type": "code",
   "execution_count": 3,
   "metadata": {},
   "outputs": [
    {
     "name": "stdout",
     "output_type": "stream",
     "text": [
      "group1\n",
      "if statment got executed\n"
     ]
    }
   ],
   "source": [
    "age=40\n",
    "if age<45:\n",
    "    print(\"group1\")\n",
    "print(\"if statment got executed\")"
   ]
  },
  {
   "cell_type": "code",
   "execution_count": 7,
   "metadata": {},
   "outputs": [
    {
     "name": "stdout",
     "output_type": "stream",
     "text": [
      "enter the age\n",
      "25\n",
      "group1\n",
      "if statment got executed\n"
     ]
    }
   ],
   "source": [
    "age=int(input(\"enter the age\\n\"))\n",
    "if age<45:\n",
    "    print(\"group1\")\n",
    "print(\"if statment got executed\")"
   ]
  },
  {
   "cell_type": "code",
   "execution_count": 13,
   "metadata": {},
   "outputs": [
    {
     "name": "stdout",
     "output_type": "stream",
     "text": [
      "enter the age\n",
      "25\n",
      "enter the outputDVS\n",
      "DVS\n",
      "if statment got executed\n"
     ]
    }
   ],
   "source": [
    "age=int(input(\"enter the age\\n\"))\n",
    "if age<45:\n",
    "    print(str(input((\"enter the output\"))))\n",
    "print(\"if statment got executed\")"
   ]
  },
  {
   "cell_type": "code",
   "execution_count": 14,
   "metadata": {},
   "outputs": [
    {
     "name": "stdout",
     "output_type": "stream",
     "text": [
      "group2\n"
     ]
    }
   ],
   "source": [
    "age=40\n",
    "if age<40:\n",
    "    print(\"group1\")\n",
    "else:\n",
    "    print(\"group2\")"
   ]
  },
  {
   "cell_type": "code",
   "execution_count": 24,
   "metadata": {},
   "outputs": [
    {
     "name": "stdout",
     "output_type": "stream",
     "text": [
      "enter the age50.5\n",
      "enter the compare value50\n",
      "enter the false output2group2\n",
      "group2\n"
     ]
    }
   ],
   "source": [
    "age=float(input(\"enter the age\"))\n",
    "if age<float(input(\"enter the compare value\")):\n",
    "    print(str(input(\"enter the correct output1\")))\n",
    "else:\n",
    "    print(str(input(\"enter the false output2\")))\n"
   ]
  },
  {
   "cell_type": "code",
   "execution_count": 25,
   "metadata": {},
   "outputs": [
    {
     "name": "stdout",
     "output_type": "stream",
     "text": [
      "enter the marks76\n",
      "1st class\n"
     ]
    }
   ],
   "source": [
    "marks=float(input(\"enter the marks\"))\n",
    "if marks<35:\n",
    "    print(\"fail\")\n",
    "elif marks<50:\n",
    "    print(\"3rd class\")\n",
    "elif marks<75:\n",
    "    print(\"2nd class\")\n",
    "elif marks<90:\n",
    "    print(\"1st class\")\n",
    "elif marks<=100:\n",
    "    print(\"distinction\")\n",
    "else:\n",
    "    print(\"error in marks\")"
   ]
  },
  {
   "cell_type": "code",
   "execution_count": 29,
   "metadata": {},
   "outputs": [
    {
     "name": "stdout",
     "output_type": "stream",
     "text": [
      "3rd class\n"
     ]
    }
   ],
   "source": [
    "marks=60\n",
    "if marks>0 and marks<35:\n",
    "    print(\"fail\")\n",
    "elif marks>=35 and marks<=60:\n",
    "    print(\"3rd class\")\n",
    "else:\n",
    "    print(\"unknow\")"
   ]
  },
  {
   "cell_type": "code",
   "execution_count": 33,
   "metadata": {},
   "outputs": [
    {
     "name": "stdout",
     "output_type": "stream",
     "text": [
      "group1\n"
     ]
    }
   ],
   "source": [
    "marks=50\n",
    "loc=\"bangalore\"\n",
    "if marks<55 or loc==\"hyderabad\":\n",
    "    print(\"group1\")\n",
    "elif marks<60 or loc==\"bangalore\":\n",
    "    print(\"group2\")\n",
    "else:\n",
    "    print(\"unknow\")"
   ]
  },
  {
   "cell_type": "code",
   "execution_count": 36,
   "metadata": {},
   "outputs": [
    {
     "name": "stdout",
     "output_type": "stream",
     "text": [
      "group1\n",
      "group2\n",
      "not group3\n"
     ]
    }
   ],
   "source": [
    "age=35\n",
    "if age<60:\n",
    "    print(\"group1\")\n",
    "    if age<40:\n",
    "        print(\"group2\")\n",
    "        if age<20:\n",
    "            print(\"group3\")\n",
    "        else:\n",
    "            print(\"not group3\")\n",
    "    else:\n",
    "        print(\"not group2\")\n",
    "else:\n",
    "    print(\"not group1\")"
   ]
  },
  {
   "cell_type": "markdown",
   "metadata": {},
   "source": [
    "# looping statments in python\n",
    "\n",
    "1. for loop\n",
    "2. while loop"
   ]
  },
  {
   "cell_type": "code",
   "execution_count": 37,
   "metadata": {},
   "outputs": [
    {
     "data": {
      "text/plain": [
       "range(1, 10)"
      ]
     },
     "execution_count": 37,
     "metadata": {},
     "output_type": "execute_result"
    }
   ],
   "source": [
    "range(1,10)"
   ]
  },
  {
   "cell_type": "code",
   "execution_count": 38,
   "metadata": {},
   "outputs": [
    {
     "data": {
      "text/plain": [
       "[1, 2, 3, 4, 5, 6, 7, 8, 9]"
      ]
     },
     "execution_count": 38,
     "metadata": {},
     "output_type": "execute_result"
    }
   ],
   "source": [
    "list(range(1,10))"
   ]
  },
  {
   "cell_type": "code",
   "execution_count": 39,
   "metadata": {},
   "outputs": [
    {
     "data": {
      "text/plain": [
       "[1, 3, 5, 7, 9]"
      ]
     },
     "execution_count": 39,
     "metadata": {},
     "output_type": "execute_result"
    }
   ],
   "source": [
    "list(range(1,10,2))"
   ]
  },
  {
   "cell_type": "code",
   "execution_count": 42,
   "metadata": {},
   "outputs": [
    {
     "name": "stdout",
     "output_type": "stream",
     "text": [
      "Help on range object:\n",
      "\n",
      "class range(object)\n",
      " |  range(stop) -> range object\n",
      " |  range(start, stop[, step]) -> range object\n",
      " |  \n",
      " |  Return an object that produces a sequence of integers from start (inclusive)\n",
      " |  to stop (exclusive) by step.  range(i, j) produces i, i+1, i+2, ..., j-1.\n",
      " |  start defaults to 0, and stop is omitted!  range(4) produces 0, 1, 2, 3.\n",
      " |  These are exactly the valid indices for a list of 4 elements.\n",
      " |  When step is given, it specifies the increment (or decrement).\n",
      " |  \n",
      " |  Methods defined here:\n",
      " |  \n",
      " |  __bool__(self, /)\n",
      " |      self != 0\n",
      " |  \n",
      " |  __contains__(self, key, /)\n",
      " |      Return key in self.\n",
      " |  \n",
      " |  __eq__(self, value, /)\n",
      " |      Return self==value.\n",
      " |  \n",
      " |  __ge__(self, value, /)\n",
      " |      Return self>=value.\n",
      " |  \n",
      " |  __getattribute__(self, name, /)\n",
      " |      Return getattr(self, name).\n",
      " |  \n",
      " |  __getitem__(self, key, /)\n",
      " |      Return self[key].\n",
      " |  \n",
      " |  __gt__(self, value, /)\n",
      " |      Return self>value.\n",
      " |  \n",
      " |  __hash__(self, /)\n",
      " |      Return hash(self).\n",
      " |  \n",
      " |  __iter__(self, /)\n",
      " |      Implement iter(self).\n",
      " |  \n",
      " |  __le__(self, value, /)\n",
      " |      Return self<=value.\n",
      " |  \n",
      " |  __len__(self, /)\n",
      " |      Return len(self).\n",
      " |  \n",
      " |  __lt__(self, value, /)\n",
      " |      Return self<value.\n",
      " |  \n",
      " |  __ne__(self, value, /)\n",
      " |      Return self!=value.\n",
      " |  \n",
      " |  __new__(*args, **kwargs) from builtins.type\n",
      " |      Create and return a new object.  See help(type) for accurate signature.\n",
      " |  \n",
      " |  __reduce__(...)\n",
      " |      helper for pickle\n",
      " |  \n",
      " |  __repr__(self, /)\n",
      " |      Return repr(self).\n",
      " |  \n",
      " |  __reversed__(...)\n",
      " |      Return a reverse iterator.\n",
      " |  \n",
      " |  count(...)\n",
      " |      rangeobject.count(value) -> integer -- return number of occurrences of value\n",
      " |  \n",
      " |  index(...)\n",
      " |      rangeobject.index(value, [start, [stop]]) -> integer -- return index of value.\n",
      " |      Raise ValueError if the value is not present.\n",
      " |  \n",
      " |  ----------------------------------------------------------------------\n",
      " |  Data descriptors defined here:\n",
      " |  \n",
      " |  start\n",
      " |  \n",
      " |  step\n",
      " |  \n",
      " |  stop\n",
      "\n"
     ]
    }
   ],
   "source": [
    "help(range(1))"
   ]
  },
  {
   "cell_type": "code",
   "execution_count": 43,
   "metadata": {},
   "outputs": [],
   "source": [
    "a=range(1,10)"
   ]
  },
  {
   "cell_type": "code",
   "execution_count": 47,
   "metadata": {},
   "outputs": [
    {
     "data": {
      "text/plain": [
       "1"
      ]
     },
     "execution_count": 47,
     "metadata": {},
     "output_type": "execute_result"
    }
   ],
   "source": [
    "a.count(1)"
   ]
  },
  {
   "cell_type": "code",
   "execution_count": 48,
   "metadata": {},
   "outputs": [
    {
     "name": "stdout",
     "output_type": "stream",
     "text": [
      "each iteration 1\n",
      "each iteration 2\n",
      "each iteration 3\n",
      "each iteration 4\n",
      "each iteration 5\n",
      "each iteration 6\n",
      "each iteration 7\n",
      "each iteration 8\n",
      "each iteration 9\n"
     ]
    }
   ],
   "source": [
    "for i in range(1,10):\n",
    "    print(\"each iteration\",i)"
   ]
  },
  {
   "cell_type": "code",
   "execution_count": 49,
   "metadata": {},
   "outputs": [
    {
     "name": "stdout",
     "output_type": "stream",
     "text": [
      "each iteration 1 values are 1\n",
      "each iteration 2 values are 3\n",
      "each iteration 3 values are 6\n",
      "each iteration 4 values are 10\n",
      "each iteration 5 values are 15\n",
      "each iteration 6 values are 21\n",
      "each iteration 7 values are 28\n",
      "each iteration 8 values are 36\n",
      "each iteration 9 values are 45\n"
     ]
    }
   ],
   "source": [
    "sumx=0\n",
    "for i in range(1,10):\n",
    "    sumx=sumx+i\n",
    "    print(\"each iteration\",i,\"values are\",sumx)"
   ]
  },
  {
   "cell_type": "code",
   "execution_count": 50,
   "metadata": {},
   "outputs": [
    {
     "name": "stdout",
     "output_type": "stream",
     "text": [
      "each iteration 1 values are 1\n",
      "each iteration 3 values are 4\n",
      "each iteration 5 values are 9\n",
      "each iteration 7 values are 16\n",
      "each iteration 9 values are 25\n"
     ]
    }
   ],
   "source": [
    "sumx=0\n",
    "for i in range(1,10,2):\n",
    "    sumx=sumx+i\n",
    "    print(\"each iteration\",i,\"values are\",sumx)"
   ]
  },
  {
   "cell_type": "code",
   "execution_count": 51,
   "metadata": {},
   "outputs": [
    {
     "name": "stdout",
     "output_type": "stream",
     "text": [
      "each iteration 1 values are 1\n",
      "each iteration 2 values are 3\n",
      "each iteration 3 values are 6\n",
      "each iteration 4 values are 10\n",
      "each iteration 5 values are 15\n",
      "each iteration 6 values are 21\n",
      "each iteration 7 values are 28\n",
      "each iteration 8 values are 36\n"
     ]
    }
   ],
   "source": [
    "sumx=0\n",
    "for i in range(1,10):\n",
    "    sumx=sumx+i\n",
    "    if(sumx>40):\n",
    "        break\n",
    "    print(\"each iteration\",i,\"values are\",sumx)"
   ]
  },
  {
   "cell_type": "code",
   "execution_count": 56,
   "metadata": {},
   "outputs": [],
   "source": [
    "sumx=0\n",
    "for i in range(1,10):\n",
    "    pass\n",
    "    "
   ]
  },
  {
   "cell_type": "code",
   "execution_count": 57,
   "metadata": {},
   "outputs": [
    {
     "name": "stdout",
     "output_type": "stream",
     "text": [
      "each iteration 10 values are 10\n",
      "each iteration 20 values are 30\n",
      "each iteration 40 values are 70\n",
      "each iteration 50 values are 120\n"
     ]
    }
   ],
   "source": [
    "abc=[10,20,40,50]\n",
    "sumx=0\n",
    "for i in abc:\n",
    "    sumx=sumx+i\n",
    "    print(\"each iteration\",i,\"values are\",sumx)"
   ]
  },
  {
   "cell_type": "code",
   "execution_count": 58,
   "metadata": {},
   "outputs": [
    {
     "name": "stdout",
     "output_type": "stream",
     "text": [
      "each iteration 10 values are 10\n",
      "each iteration 20 values are 30\n",
      "each iteration 40 values are 70\n",
      "each iteration 50 values are 120\n"
     ]
    }
   ],
   "source": [
    "abc=(10,20,40,50)\n",
    "sumx=0\n",
    "for i in abc:\n",
    "    sumx=sumx+i\n",
    "    print(\"each iteration\",i,\"values are\",sumx)"
   ]
  },
  {
   "cell_type": "code",
   "execution_count": 59,
   "metadata": {},
   "outputs": [
    {
     "name": "stdout",
     "output_type": "stream",
     "text": [
      "each iteration 40 values are 40\n",
      "each iteration 10 values are 50\n",
      "each iteration 20 values are 70\n",
      "each iteration 50 values are 120\n"
     ]
    }
   ],
   "source": [
    "abc={10,20,40,50}\n",
    "sumx=0\n",
    "for i in abc:\n",
    "    sumx=sumx+i\n",
    "    print(\"each iteration\",i,\"values are\",sumx)"
   ]
  },
  {
   "cell_type": "code",
   "execution_count": 67,
   "metadata": {},
   "outputs": [
    {
     "name": "stdout",
     "output_type": "stream",
     "text": [
      "AUS\n"
     ]
    }
   ],
   "source": [
    "abc=[\"india\",\"AUS\",\"Canada\",\"NZ\"]\n",
    "for i in abc:\n",
    "    if(i==\"AUS\"):\n",
    "        print(i)\n",
    "        continue\n",
    "           "
   ]
  },
  {
   "cell_type": "code",
   "execution_count": 79,
   "metadata": {},
   "outputs": [
    {
     "name": "stdout",
     "output_type": "stream",
     "text": [
      "india\n",
      "AUS\n",
      "Canada\n",
      "NZ\n"
     ]
    }
   ],
   "source": [
    "abc=[\"india\",\"AUS\",\"Canada\",\"NZ\"]\n",
    "for i in abc:\n",
    "    if(i==\"india\"):\n",
    "        print(i)\n",
    "        pass\n",
    "    else:\n",
    "        print(i)"
   ]
  },
  {
   "cell_type": "code",
   "execution_count": 82,
   "metadata": {},
   "outputs": [
    {
     "name": "stdout",
     "output_type": "stream",
     "text": [
      "AUS\n"
     ]
    }
   ],
   "source": [
    "abc=[\"india\",\"AUS\",\"Canada\",\"NZ\"]\n",
    "for i in abc:\n",
    "    if(i==\"AUS\"):\n",
    "        print(i)\n",
    "        continue\n",
    "  "
   ]
  },
  {
   "cell_type": "code",
   "execution_count": 94,
   "metadata": {},
   "outputs": [
    {
     "ename": "TypeError",
     "evalue": "'type' object is not subscriptable",
     "output_type": "error",
     "traceback": [
      "\u001b[1;31m---------------------------------------------------------------------------\u001b[0m",
      "\u001b[1;31mTypeError\u001b[0m                                 Traceback (most recent call last)",
      "\u001b[1;32m<ipython-input-94-933f13ea1bd7>\u001b[0m in \u001b[0;36m<module>\u001b[1;34m\u001b[0m\n\u001b[0;32m      1\u001b[0m \u001b[0mabc\u001b[0m\u001b[1;33m=\u001b[0m\u001b[1;33m[\u001b[0m\u001b[1;34m\"india\"\u001b[0m\u001b[1;33m,\u001b[0m\u001b[1;34m\"AUS\"\u001b[0m\u001b[1;33m,\u001b[0m\u001b[1;34m\"Canada\"\u001b[0m\u001b[1;33m,\u001b[0m\u001b[1;34m\"NZ\"\u001b[0m\u001b[1;33m]\u001b[0m\u001b[1;33m\u001b[0m\u001b[0m\n\u001b[0;32m      2\u001b[0m \u001b[1;32mfor\u001b[0m \u001b[0mi\u001b[0m \u001b[1;32min\u001b[0m \u001b[0mabc\u001b[0m\u001b[1;33m:\u001b[0m\u001b[1;33m\u001b[0m\u001b[0m\n\u001b[1;32m----> 3\u001b[1;33m     \u001b[0mprint\u001b[0m\u001b[1;33m(\u001b[0m\u001b[0menumerate\u001b[0m\u001b[1;33m[\u001b[0m\u001b[0mi\u001b[0m\u001b[1;33m]\u001b[0m\u001b[1;33m)\u001b[0m\u001b[1;33m\u001b[0m\u001b[0m\n\u001b[0m\u001b[0;32m      4\u001b[0m \u001b[1;33m\u001b[0m\u001b[0m\n",
      "\u001b[1;31mTypeError\u001b[0m: 'type' object is not subscriptable"
     ]
    }
   ],
   "source": [
    "abc=[\"india\",\"AUS\",\"Canada\",\"NZ\"]\n",
    "for i in abc:\n",
    "    print(enumerate[i])\n",
    "    \n"
   ]
  },
  {
   "cell_type": "code",
   "execution_count": null,
   "metadata": {},
   "outputs": [],
   "source": []
  }
 ],
 "metadata": {
  "kernelspec": {
   "display_name": "Python 3",
   "language": "python",
   "name": "python3"
  },
  "language_info": {
   "codemirror_mode": {
    "name": "ipython",
    "version": 3
   },
   "file_extension": ".py",
   "mimetype": "text/x-python",
   "name": "python",
   "nbconvert_exporter": "python",
   "pygments_lexer": "ipython3",
   "version": "3.6.5"
  }
 },
 "nbformat": 4,
 "nbformat_minor": 2
}
